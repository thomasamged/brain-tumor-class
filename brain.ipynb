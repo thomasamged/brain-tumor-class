{
  "metadata": {
    "kernelspec": {
      "language": "python",
      "display_name": "Python 3",
      "name": "python3"
    },
    "language_info": {
      "name": "python",
      "version": "3.10.14",
      "mimetype": "text/x-python",
      "codemirror_mode": {
        "name": "ipython",
        "version": 3
      },
      "pygments_lexer": "ipython3",
      "nbconvert_exporter": "python",
      "file_extension": ".py"
    },
    "kaggle": {
      "accelerator": "nvidiaTeslaT4",
      "dataSources": [
        {
          "sourceId": 377107,
          "sourceType": "datasetVersion",
          "datasetId": 165566
        }
      ],
      "dockerImageVersionId": 30787,
      "isInternetEnabled": true,
      "language": "python",
      "sourceType": "notebook",
      "isGpuEnabled": true
    },
    "colab": {
      "name": "brain",
      "provenance": [],
      "include_colab_link": true
    }
  },
  "nbformat_minor": 0,
  "nbformat": 4,
  "cells": [
    {
      "cell_type": "markdown",
      "metadata": {
        "id": "view-in-github",
        "colab_type": "text"
      },
      "source": [
        "<a href=\"https://colab.research.google.com/github/thomasamged/brain-tumor-class/blob/main/brain.ipynb\" target=\"_parent\"><img src=\"https://colab.research.google.com/assets/colab-badge.svg\" alt=\"Open In Colab\"/></a>"
      ]
    },
    {
      "source": [
        "# IMPORTANT: RUN THIS CELL IN ORDER TO IMPORT YOUR KAGGLE DATA SOURCES,\n",
        "# THEN FEEL FREE TO DELETE THIS CELL.\n",
        "# NOTE: THIS NOTEBOOK ENVIRONMENT DIFFERS FROM KAGGLE'S PYTHON\n",
        "# ENVIRONMENT SO THERE MAY BE MISSING LIBRARIES USED BY YOUR\n",
        "# NOTEBOOK.\n",
        "import kagglehub\n",
        "navoneel_brain_mri_images_for_brain_tumor_detection_path = kagglehub.dataset_download('navoneel/brain-mri-images-for-brain-tumor-detection')\n",
        "\n",
        "print('Data source import complete.')\n"
      ],
      "metadata": {
        "id": "IHKXyE-41C0Z"
      },
      "cell_type": "code",
      "outputs": [],
      "execution_count": null
    },
    {
      "cell_type": "code",
      "source": [
        "# This Python 3 environment comes with many helpful analytics libraries installed\n",
        "# It is defined by the kaggle/python Docker image: https://github.com/kaggle/docker-python\n",
        "# For example, here's several helpful packages to load\n",
        "\n",
        "import numpy as np # linear algebra\n",
        "import pandas as pd # data processing, CSV file I/O (e.g. pd.read_csv)\n",
        "\n",
        "# Input data files are available in the read-only \"../input/\" directory\n",
        "# For example, running this (by clicking run or pressing Shift+Enter) will list all files under the input directory\n",
        "\n",
        "import os\n",
        "\n",
        "\n",
        "\n",
        "# You can write up to 20GB to the current directory (/kaggle/working/) that gets preserved as output when you create a version using \"Save & Run All\"\n",
        "# You can also write temporary files to /kaggle/temp/, but they won't be saved outside of the current session"
      ],
      "metadata": {
        "_uuid": "8f2839f25d086af736a60e9eeb907d3b93b6e0e5",
        "_cell_guid": "b1076dfc-b9ad-4769-8c92-a6c4dae69d19",
        "execution": {
          "iopub.status.busy": "2024-10-09T00:56:31.103443Z",
          "iopub.execute_input": "2024-10-09T00:56:31.103892Z",
          "iopub.status.idle": "2024-10-09T00:56:31.108783Z",
          "shell.execute_reply.started": "2024-10-09T00:56:31.103859Z",
          "shell.execute_reply": "2024-10-09T00:56:31.10784Z"
        },
        "trusted": true,
        "id": "k7GUM_zz1C0b"
      },
      "outputs": [],
      "execution_count": null
    },
    {
      "cell_type": "code",
      "source": [
        "import glob as gb\n",
        "import cv2\n",
        "from sklearn.model_selection import train_test_split\n",
        "from sklearn.metrics import accuracy_score,classification_report\n",
        "import matplotlib.pyplot as  plt\n",
        "from tensorflow.keras.layers import Conv2D,Flatten,Dense,Dropout,MaxPool2D\n",
        "from tensorflow.keras.models import Sequential\n",
        "from imblearn.over_sampling import RandomOverSampler\n",
        "import warnings"
      ],
      "metadata": {
        "execution": {
          "iopub.status.busy": "2024-10-09T00:56:33.233611Z",
          "iopub.execute_input": "2024-10-09T00:56:33.234322Z",
          "iopub.status.idle": "2024-10-09T00:56:45.979341Z",
          "shell.execute_reply.started": "2024-10-09T00:56:33.23428Z",
          "shell.execute_reply": "2024-10-09T00:56:45.978518Z"
        },
        "trusted": true,
        "id": "3BtG1b_B1C0b"
      },
      "outputs": [],
      "execution_count": null
    },
    {
      "cell_type": "code",
      "source": [
        "su=['jpg','JPG','jpeg']\n",
        "size_no=[]\n",
        "for s in su:\n",
        "    for i in gb.glob(\"/kaggle/input/brain-mri-images-for-brain-tumor-detection/no\"+f\"/*.{s}\"):\n",
        "        image=cv2.imread(i)\n",
        "        size_no.append(image.shape)\n",
        "print(pd.Series(size_no).value_counts(),\"\\n\",pd.Series(size_no).shape)"
      ],
      "metadata": {
        "execution": {
          "iopub.status.busy": "2024-10-09T00:56:45.981221Z",
          "iopub.execute_input": "2024-10-09T00:56:45.981909Z",
          "iopub.status.idle": "2024-10-09T00:56:46.643134Z",
          "shell.execute_reply.started": "2024-10-09T00:56:45.981862Z",
          "shell.execute_reply": "2024-10-09T00:56:46.642234Z"
        },
        "trusted": true,
        "id": "8HrK_lmC1C0b"
      },
      "outputs": [],
      "execution_count": null
    },
    {
      "cell_type": "code",
      "source": [
        "su=['jpg','JPG','jpeg']\n",
        "size_yes=[]\n",
        "for s in su:\n",
        "    for i in gb.glob(\"/kaggle/input/brain-mri-images-for-brain-tumor-detection/yes\"+f\"/*.{s}\"):\n",
        "        image=cv2.imread(i)\n",
        "        size_yes.append(image.shape)\n",
        "print(pd.Series(size_yes).value_counts(),\"\\n\",pd.Series(size_yes).shape)"
      ],
      "metadata": {
        "execution": {
          "iopub.status.busy": "2024-10-09T00:56:46.644298Z",
          "iopub.execute_input": "2024-10-09T00:56:46.644621Z",
          "iopub.status.idle": "2024-10-09T00:56:47.736061Z",
          "shell.execute_reply.started": "2024-10-09T00:56:46.644587Z",
          "shell.execute_reply": "2024-10-09T00:56:47.734903Z"
        },
        "trusted": true,
        "id": "qS0mOCbC1C0c"
      },
      "outputs": [],
      "execution_count": null
    },
    {
      "cell_type": "code",
      "source": [
        "size=128"
      ],
      "metadata": {
        "execution": {
          "iopub.status.busy": "2024-10-09T00:56:47.738367Z",
          "iopub.execute_input": "2024-10-09T00:56:47.738689Z",
          "iopub.status.idle": "2024-10-09T00:56:47.747247Z",
          "shell.execute_reply.started": "2024-10-09T00:56:47.738653Z",
          "shell.execute_reply": "2024-10-09T00:56:47.746133Z"
        },
        "trusted": true,
        "id": "QUHLGJRL1C0d"
      },
      "outputs": [],
      "execution_count": null
    },
    {
      "cell_type": "code",
      "source": [
        "su=['jpg','JPG','jpeg']\n",
        "X_yes=[]\n",
        "for s in su:\n",
        "    for i in gb.glob(\"/kaggle/input/brain-mri-images-for-brain-tumor-detection/yes\"+f\"/*.{s}\"):\n",
        "        image=cv2.imread(i)\n",
        "        image=cv2.resize(image,(size,size))\n",
        "        X_yes.append(image)"
      ],
      "metadata": {
        "execution": {
          "iopub.status.busy": "2024-10-09T01:01:57.315508Z",
          "iopub.execute_input": "2024-10-09T01:01:57.316241Z",
          "iopub.status.idle": "2024-10-09T01:01:57.631601Z",
          "shell.execute_reply.started": "2024-10-09T01:01:57.316194Z",
          "shell.execute_reply": "2024-10-09T01:01:57.630761Z"
        },
        "trusted": true,
        "id": "_uimSMnj1C0d"
      },
      "outputs": [],
      "execution_count": null
    },
    {
      "cell_type": "code",
      "source": [
        "sizesu=['jpg','JPG','jpeg']\n",
        "X_no=[]\n",
        "for s in su:\n",
        "    for i in gb.glob(\"/kaggle/input/brain-mri-images-for-brain-tumor-detection/no\"+f\"/*.{s}\"):\n",
        "        image=cv2.imread(i)\n",
        "        image=cv2.resize(image,(size,size))\n",
        "        X_no.append(image)\n",
        ""
      ],
      "metadata": {
        "execution": {
          "iopub.status.busy": "2024-10-09T01:01:59.701898Z",
          "iopub.execute_input": "2024-10-09T01:01:59.70283Z",
          "iopub.status.idle": "2024-10-09T01:01:59.909Z",
          "shell.execute_reply.started": "2024-10-09T01:01:59.702783Z",
          "shell.execute_reply": "2024-10-09T01:01:59.908128Z"
        },
        "trusted": true,
        "id": "kcMW9ZMT1C0e"
      },
      "outputs": [],
      "execution_count": null
    },
    {
      "cell_type": "code",
      "source": [
        "def get_name(code):\n",
        "    if code==0:\n",
        "        return \"no\"\n",
        "    return \"yes\""
      ],
      "metadata": {
        "execution": {
          "iopub.status.busy": "2024-10-09T01:02:01.257893Z",
          "iopub.execute_input": "2024-10-09T01:02:01.258289Z",
          "iopub.status.idle": "2024-10-09T01:02:01.264292Z",
          "shell.execute_reply.started": "2024-10-09T01:02:01.258248Z",
          "shell.execute_reply": "2024-10-09T01:02:01.263218Z"
        },
        "trusted": true,
        "id": "TRgx8MU-1C0e"
      },
      "outputs": [],
      "execution_count": null
    },
    {
      "cell_type": "code",
      "source": [
        "X=[]\n",
        "y=[]\n",
        "for i in X_yes:\n",
        "    X.append(i)\n",
        "    y.append(1)\n",
        "for i in X_no:\n",
        "    X.append(i)\n",
        "    y.append(0)\n",
        "print(len(X))\n",
        ""
      ],
      "metadata": {
        "execution": {
          "iopub.status.busy": "2024-10-09T01:02:03.296997Z",
          "iopub.execute_input": "2024-10-09T01:02:03.297913Z",
          "iopub.status.idle": "2024-10-09T01:02:03.303907Z",
          "shell.execute_reply.started": "2024-10-09T01:02:03.297868Z",
          "shell.execute_reply": "2024-10-09T01:02:03.302949Z"
        },
        "trusted": true,
        "id": "oUxxRSTp1C0f"
      },
      "outputs": [],
      "execution_count": null
    },
    {
      "cell_type": "code",
      "source": [
        "X=np.array(X)\n",
        "y=np.array(y)\n"
      ],
      "metadata": {
        "execution": {
          "iopub.status.busy": "2024-10-09T01:02:04.990036Z",
          "iopub.execute_input": "2024-10-09T01:02:04.990929Z",
          "iopub.status.idle": "2024-10-09T01:02:04.998502Z",
          "shell.execute_reply.started": "2024-10-09T01:02:04.990888Z",
          "shell.execute_reply": "2024-10-09T01:02:04.997446Z"
        },
        "trusted": true,
        "id": "5aMuEHrN1C0g"
      },
      "outputs": [],
      "execution_count": null
    },
    {
      "cell_type": "code",
      "source": [
        "plt.figure(figsize=(20,20))\n",
        "for n,i in enumerate(list(np.random.randint(0,len(X),36))):\n",
        "    plt.subplot(6,6,n+1)\n",
        "    plt.imshow(X[i])\n",
        "    plt.axis(\"off\")\n",
        "    plt.title(get_name(y[i]))"
      ],
      "metadata": {
        "execution": {
          "iopub.status.busy": "2024-10-09T00:57:13.010531Z",
          "iopub.execute_input": "2024-10-09T00:57:13.011291Z",
          "iopub.status.idle": "2024-10-09T00:57:16.924756Z",
          "shell.execute_reply.started": "2024-10-09T00:57:13.01125Z",
          "shell.execute_reply": "2024-10-09T00:57:16.923381Z"
        },
        "trusted": true,
        "id": "oQH1IZ1Q1C0g"
      },
      "outputs": [],
      "execution_count": null
    },
    {
      "cell_type": "code",
      "source": [
        "X=X.astype(\"float32\")\n",
        "X/=255"
      ],
      "metadata": {
        "execution": {
          "iopub.status.busy": "2024-10-09T01:02:10.379532Z",
          "iopub.execute_input": "2024-10-09T01:02:10.380177Z",
          "iopub.status.idle": "2024-10-09T01:02:10.400341Z",
          "shell.execute_reply.started": "2024-10-09T01:02:10.380138Z",
          "shell.execute_reply": "2024-10-09T01:02:10.399509Z"
        },
        "trusted": true,
        "id": "td5E6k-_1C0h"
      },
      "outputs": [],
      "execution_count": null
    },
    {
      "cell_type": "code",
      "source": [
        "X_train,X_test,y_train,y_test=train_test_split(X,y,test_size=.3,shuffle=True,stratify=y)"
      ],
      "metadata": {
        "execution": {
          "iopub.status.busy": "2024-10-09T01:05:10.390126Z",
          "iopub.execute_input": "2024-10-09T01:05:10.391109Z",
          "iopub.status.idle": "2024-10-09T01:05:10.413623Z",
          "shell.execute_reply.started": "2024-10-09T01:05:10.39105Z",
          "shell.execute_reply": "2024-10-09T01:05:10.412574Z"
        },
        "trusted": true,
        "id": "d2-lsSBM1C0h"
      },
      "outputs": [],
      "execution_count": null
    },
    {
      "cell_type": "code",
      "source": [
        "brain=Sequential([\n",
        "    Conv2D(32,kernel_size=(3,3),activation=\"relu\",input_shape=(size,size,3)),\n",
        "    MaxPool2D(2,2),\n",
        "    Conv2D(64,kernel_size=(3,3),activation=\"relu\"),\n",
        "    MaxPool2D(2,2),\n",
        "    Flatten(),\n",
        "    Dense(100,activation=\"relu\"),\n",
        "    Dropout(rate=.5),\n",
        "    Dense(1,activation=\"sigmoid\")])\n",
        "brain.compile(optimizer=\"adam\",loss='binary_crossentropy',metrics=[\"accuracy\"])"
      ],
      "metadata": {
        "execution": {
          "iopub.status.busy": "2024-10-09T01:06:21.823103Z",
          "iopub.execute_input": "2024-10-09T01:06:21.823473Z",
          "iopub.status.idle": "2024-10-09T01:06:21.872802Z",
          "shell.execute_reply.started": "2024-10-09T01:06:21.823437Z",
          "shell.execute_reply": "2024-10-09T01:06:21.871804Z"
        },
        "trusted": true,
        "id": "p4o-ZzkI1C0h"
      },
      "outputs": [],
      "execution_count": null
    },
    {
      "cell_type": "code",
      "source": [
        "\n",
        "brain.summary()\n"
      ],
      "metadata": {
        "execution": {
          "iopub.status.busy": "2024-10-09T01:02:46.814738Z",
          "iopub.execute_input": "2024-10-09T01:02:46.815603Z",
          "iopub.status.idle": "2024-10-09T01:02:46.838045Z",
          "shell.execute_reply.started": "2024-10-09T01:02:46.815559Z",
          "shell.execute_reply": "2024-10-09T01:02:46.837137Z"
        },
        "trusted": true,
        "id": "qZVbw0Ow1C0h"
      },
      "outputs": [],
      "execution_count": null
    },
    {
      "cell_type": "code",
      "source": [
        "warnings.filterwarnings(\"ignore\")\n",
        "history=brain.fit(X_train,y_train,epochs=30\n",
        "                  ,verbose=1,batch_size=10)"
      ],
      "metadata": {
        "execution": {
          "iopub.status.busy": "2024-10-09T01:06:24.271254Z",
          "iopub.execute_input": "2024-10-09T01:06:24.272119Z",
          "iopub.status.idle": "2024-10-09T01:06:32.831931Z",
          "shell.execute_reply.started": "2024-10-09T01:06:24.272053Z",
          "shell.execute_reply": "2024-10-09T01:06:32.831129Z"
        },
        "trusted": true,
        "id": "NmUg-iS-1C0h"
      },
      "outputs": [],
      "execution_count": null
    },
    {
      "cell_type": "code",
      "source": [
        "pre=brain.predict(X_test)\n",
        "pr=[]\n",
        "for i in pre:\n",
        "    if i<.5:\n",
        "        pr.append(0)\n",
        "    else:\n",
        "        pr.append(1)\n",
        "print(accuracy_score(y_test,pr))"
      ],
      "metadata": {
        "execution": {
          "iopub.status.busy": "2024-10-09T01:06:36.666039Z",
          "iopub.execute_input": "2024-10-09T01:06:36.667024Z",
          "iopub.status.idle": "2024-10-09T01:06:37.048508Z",
          "shell.execute_reply.started": "2024-10-09T01:06:36.66698Z",
          "shell.execute_reply": "2024-10-09T01:06:37.047521Z"
        },
        "trusted": true,
        "id": "uCcbe5Fj1C0h"
      },
      "outputs": [],
      "execution_count": null
    },
    {
      "cell_type": "code",
      "source": [
        "loss,acc=brain.evaluate(X_test,y_test)\n",
        "print(loss,acc)"
      ],
      "metadata": {
        "execution": {
          "iopub.status.busy": "2024-10-09T01:06:39.978963Z",
          "iopub.execute_input": "2024-10-09T01:06:39.979331Z",
          "iopub.status.idle": "2024-10-09T01:06:40.48323Z",
          "shell.execute_reply.started": "2024-10-09T01:06:39.979295Z",
          "shell.execute_reply": "2024-10-09T01:06:40.482235Z"
        },
        "trusted": true,
        "id": "P4CWSXIA1C0i"
      },
      "outputs": [],
      "execution_count": null
    },
    {
      "cell_type": "code",
      "source": [
        "print(classification_report(y_test,pr))"
      ],
      "metadata": {
        "execution": {
          "iopub.status.busy": "2024-10-09T01:06:50.996588Z",
          "iopub.execute_input": "2024-10-09T01:06:50.997243Z",
          "iopub.status.idle": "2024-10-09T01:06:51.012019Z",
          "shell.execute_reply.started": "2024-10-09T01:06:50.9972Z",
          "shell.execute_reply": "2024-10-09T01:06:51.010987Z"
        },
        "trusted": true,
        "id": "jiRlIeSd1C0i"
      },
      "outputs": [],
      "execution_count": null
    },
    {
      "cell_type": "code",
      "source": [
        "plt.figure(figsize=(20,20))\n",
        "for n,i in enumerate(list(np.random.randint(0,len(X_test),36))):\n",
        "    plt.subplot(6,6,n+1)\n",
        "    plt.imshow(X_test[i])\n",
        "    plt.axis(\"off\")\n",
        "    plt.title(f\"actual {get_name(y_test[i])} | predicted {get_name(pr[i])}\")"
      ],
      "metadata": {
        "execution": {
          "iopub.status.busy": "2024-10-09T01:08:33.464907Z",
          "iopub.execute_input": "2024-10-09T01:08:33.465803Z",
          "iopub.status.idle": "2024-10-09T01:08:37.353262Z",
          "shell.execute_reply.started": "2024-10-09T01:08:33.465759Z",
          "shell.execute_reply": "2024-10-09T01:08:37.351982Z"
        },
        "trusted": true,
        "id": "Vn4F3qi01C0i"
      },
      "outputs": [],
      "execution_count": null
    }
  ]
}